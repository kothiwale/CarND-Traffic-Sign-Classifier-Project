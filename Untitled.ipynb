{
 "cells": [
  {
   "cell_type": "code",
   "execution_count": null,
   "metadata": {
    "collapsed": true
   },
   "outputs": [],
   "source": [
    "import pickle\n",
    "import numpy as np\n",
    "import os\n",
    "import cv2\n",
    "\n",
    "import skimage\n",
    "import matplotlib.pyplot as plt\n",
    "%matplotlib inline\n",
    "import skimage.transform\n",
    "# TODO: Fill this in based on where you saved the training and testing data\n",
    "\n",
    "training_file = r'C:/Users/Siddarth/Desktop/Udacity/CarND-Traffic-Sign-Classifier-Project-master/Pics/Project_2/train.p'\n",
    "validation_file= r'C:/Users/Siddarth/Desktop/Udacity/CarND-Traffic-Sign-Classifier-Project-master/Pics/Project_2/valid.p'\n",
    "testing_file = r'C:/Users/Siddarth/Desktop/Udacity/CarND-Traffic-Sign-Classifier-Project-master/Pics/Project_2/test.p'\n",
    "\n",
    "with open(training_file, mode='rb') as f:\n",
    "    train = pickle.load(f)\n",
    "with open(validation_file, mode='rb') as f:\n",
    "    valid = pickle.load(f)\n",
    "with open(testing_file, mode='rb') as f:\n",
    "    test = pickle.load(f)\n",
    "    \n",
    "X_train, y_train =train['features'], train['labels']\n",
    "X_valid, y_valid = valid['features'], valid['labels']\n",
    "X_test, y_test = test['features'], test['labels']\n",
    "\n",
    "sampleImg=X_train[800].squeeze()\n",
    "plt.imshow(sampleImg)"
   ]
  },
  {
   "cell_type": "code",
   "execution_count": null,
   "metadata": {
    "collapsed": true
   },
   "outputs": [],
   "source": [
    "rotated_image=skimage.transform.rotate(sampleImg,45)\n",
    "swirl_image=skimage.transform.swirl(sampleImg)"
   ]
  },
  {
   "cell_type": "code",
   "execution_count": null,
   "metadata": {
    "collapsed": false
   },
   "outputs": [],
   "source": [
    "plt.imshow(sampleImg)"
   ]
  },
  {
   "cell_type": "code",
   "execution_count": null,
   "metadata": {
    "collapsed": true
   },
   "outputs": [],
   "source": [
    "rotated_image=skimage.transform.rotate(sampleImg,45)"
   ]
  },
  {
   "cell_type": "code",
   "execution_count": null,
   "metadata": {
    "collapsed": false
   },
   "outputs": [],
   "source": [
    "plt.imshow(rotated_image)\n",
    "print (rotated_image.shape)"
   ]
  },
  {
   "cell_type": "code",
   "execution_count": null,
   "metadata": {
    "collapsed": false
   },
   "outputs": [],
   "source": [
    "swirl_image=skimage.transform.swirl(sampleImg)\n",
    "plt.imshow(swirl_image)"
   ]
  },
  {
   "cell_type": "code",
   "execution_count": null,
   "metadata": {
    "collapsed": false
   },
   "outputs": [],
   "source": [
    "yuv_image=cv2.cvtColor(sampleImg,cv2.COLOR_RGB2YUV)\n",
    "plt.imshow(yuv_image)\n",
    "#print (yuv_image)"
   ]
  },
  {
   "cell_type": "code",
   "execution_count": null,
   "metadata": {
    "collapsed": false
   },
   "outputs": [],
   "source": [
    "print (X_train.shape[0])"
   ]
  },
  {
   "cell_type": "code",
   "execution_count": null,
   "metadata": {
    "collapsed": false
   },
   "outputs": [],
   "source": [
    "sample2=X_train[1200]\n",
    "print (sample2.shape)\n",
    "plt.imshow(sample2)"
   ]
  },
  {
   "cell_type": "code",
   "execution_count": 1,
   "metadata": {
    "collapsed": false
   },
   "outputs": [
    {
     "ename": "NameError",
     "evalue": "name 'np' is not defined",
     "output_type": "error",
     "traceback": [
      "\u001b[0;31m---------------------------------------------------------------------------\u001b[0m",
      "\u001b[0;31mNameError\u001b[0m                                 Traceback (most recent call last)",
      "\u001b[0;32m<ipython-input-1-6c4e32cc69ac>\u001b[0m in \u001b[0;36m<module>\u001b[0;34m()\u001b[0m\n\u001b[0;32m----> 1\u001b[0;31m \u001b[0muniqueArray\u001b[0m\u001b[1;33m=\u001b[0m\u001b[0mnp\u001b[0m\u001b[1;33m.\u001b[0m\u001b[0mbincount\u001b[0m\u001b[1;33m(\u001b[0m\u001b[0my_train\u001b[0m\u001b[1;33m)\u001b[0m\u001b[1;33m\u001b[0m\u001b[0m\n\u001b[0m\u001b[1;32m      2\u001b[0m \u001b[0mlength_set\u001b[0m\u001b[1;33m=\u001b[0m\u001b[0mX_train\u001b[0m\u001b[1;33m.\u001b[0m\u001b[0mshape\u001b[0m\u001b[1;33m[\u001b[0m\u001b[1;36m0\u001b[0m\u001b[1;33m]\u001b[0m\u001b[1;33m\u001b[0m\u001b[0m\n\u001b[1;32m      3\u001b[0m \u001b[0maverage_set\u001b[0m\u001b[1;33m=\u001b[0m\u001b[0muniqueArray\u001b[0m\u001b[1;33m/\u001b[0m\u001b[0mlength_set\u001b[0m\u001b[1;33m\u001b[0m\u001b[0m\n\u001b[1;32m      4\u001b[0m \u001b[0mprint\u001b[0m \u001b[1;33m(\u001b[0m\u001b[0muniqueArray\u001b[0m\u001b[1;33m)\u001b[0m\u001b[1;33m\u001b[0m\u001b[0m\n\u001b[1;32m      5\u001b[0m \u001b[0mlabel_number\u001b[0m\u001b[1;33m=\u001b[0m\u001b[0mlen\u001b[0m\u001b[1;33m(\u001b[0m\u001b[0mnp\u001b[0m\u001b[1;33m.\u001b[0m\u001b[0munique\u001b[0m\u001b[1;33m(\u001b[0m\u001b[0my_train\u001b[0m\u001b[1;33m)\u001b[0m\u001b[1;33m)\u001b[0m\u001b[1;33m\u001b[0m\u001b[0m\n",
      "\u001b[0;31mNameError\u001b[0m: name 'np' is not defined"
     ]
    }
   ],
   "source": [
    "uniqueArray=np.bincount(y_train)\n",
    "length_set=X_train.shape[0]\n",
    "average_set=uniqueArray/length_set\n",
    "print (uniqueArray)\n",
    "label_number=len(np.unique(y_train))\n",
    "print (length_set)\n",
    "plt.plot(uniqueArray)"
   ]
  },
  {
   "cell_type": "code",
   "execution_count": null,
   "metadata": {
    "collapsed": false
   },
   "outputs": [],
   "source": [
    "import time\n",
    "X_new=np.empty([1,32,32,3])\n",
    "Y_new=[]\n",
    "starttime=time.time()\n",
    "for i in range(length_set):\n",
    "    if uniqueArray[y_train[i]]<500:\n",
    "        ##print (i)\n",
    "        Image=X_train[i]\n",
    "        rotated_Image=skimage.transform.rotate(Image,20)\n",
    "        rotated_Image=np.expand_dims(rotated_Image,axis=0)\n",
    "        swirl_Image=skimage.transform.swirl(Image)\n",
    "        swirl_Image=np.expand_dims(swirl_Image,axis=0)\n",
    "        X_new=np.append(X_new,rotated_Image,axis=0)\n",
    "        X_new=np.append(X_new,swirl_Image,axis=0)\n",
    "        Y_new.append(y_train[i])\n",
    "\n",
    "X_train1=np.append(X_train,X_new,axis=0)\n",
    "y_train1=np.append(y_train,Y_new,axis=0)\n",
    "print (X_train1.shape[0]-X_train.shape[0])\n",
    "np.save('X_train.npy',X_train1)\n",
    "np.save('Y_train.npy',y_train1)\n",
    "print ('Time taken:',time.time()-starttime)\n",
    "    \n",
    "    \n",
    "    \n",
    "    "
   ]
  },
  {
   "cell_type": "code",
   "execution_count": null,
   "metadata": {
    "collapsed": false
   },
   "outputs": [],
   "source": [
    "a=np.load('Y_train.npy')\n",
    "print (a.shape)\n",
    "print(y_train.shape)"
   ]
  },
  {
   "cell_type": "code",
   "execution_count": null,
   "metadata": {
    "collapsed": true
   },
   "outputs": [],
   "source": []
  }
 ],
 "metadata": {
  "anaconda-cloud": {},
  "kernelspec": {
   "display_name": "Python [conda root]",
   "language": "python",
   "name": "conda-root-py"
  },
  "language_info": {
   "codemirror_mode": {
    "name": "ipython",
    "version": 3
   },
   "file_extension": ".py",
   "mimetype": "text/x-python",
   "name": "python",
   "nbconvert_exporter": "python",
   "pygments_lexer": "ipython3",
   "version": "3.5.2"
  }
 },
 "nbformat": 4,
 "nbformat_minor": 1
}
